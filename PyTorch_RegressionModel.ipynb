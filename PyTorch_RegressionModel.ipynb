{
 "cells": [
  {
   "cell_type": "code",
   "execution_count": 1,
   "metadata": {},
   "outputs": [
    {
     "name": "stdout",
     "output_type": "stream",
     "text": [
      "Requirement already up-to-date: graphviz in c:\\dev\\anaconda3\\lib\\site-packages (0.14)\n"
     ]
    }
   ],
   "source": [
    "!pip install graphviz --upgrade"
   ]
  },
  {
   "cell_type": "code",
   "execution_count": 2,
   "metadata": {},
   "outputs": [
    {
     "name": "stdout",
     "output_type": "stream",
     "text": [
      "Requirement already satisfied: hiddenlayer in c:\\dev\\anaconda3\\lib\\site-packages (0.3)\n"
     ]
    }
   ],
   "source": [
    "!pip install hiddenlayer"
   ]
  },
  {
   "cell_type": "code",
   "execution_count": 171,
   "metadata": {},
   "outputs": [],
   "source": [
    "import numpy as np\n",
    "import torch\n",
    "import pandas as pd\n",
    "import hiddenlayer as hl\n",
    "import matplotlib.pyplot as plt\n",
    "import seaborn"
   ]
  },
  {
   "cell_type": "code",
   "execution_count": 172,
   "metadata": {},
   "outputs": [
    {
     "data": {
      "text/html": [
       "<div>\n",
       "<style scoped>\n",
       "    .dataframe tbody tr th:only-of-type {\n",
       "        vertical-align: middle;\n",
       "    }\n",
       "\n",
       "    .dataframe tbody tr th {\n",
       "        vertical-align: top;\n",
       "    }\n",
       "\n",
       "    .dataframe thead th {\n",
       "        text-align: right;\n",
       "    }\n",
       "</style>\n",
       "<table border=\"1\" class=\"dataframe\">\n",
       "  <thead>\n",
       "    <tr style=\"text-align: right;\">\n",
       "      <th></th>\n",
       "      <th>season</th>\n",
       "      <th>holiday</th>\n",
       "      <th>workingday</th>\n",
       "      <th>weather</th>\n",
       "      <th>temp</th>\n",
       "      <th>atemp</th>\n",
       "      <th>humidity</th>\n",
       "      <th>windspeed</th>\n",
       "    </tr>\n",
       "    <tr>\n",
       "      <th>datetime</th>\n",
       "      <th></th>\n",
       "      <th></th>\n",
       "      <th></th>\n",
       "      <th></th>\n",
       "      <th></th>\n",
       "      <th></th>\n",
       "      <th></th>\n",
       "      <th></th>\n",
       "    </tr>\n",
       "  </thead>\n",
       "  <tbody>\n",
       "    <tr>\n",
       "      <th>2011-01-20 00:00:00</th>\n",
       "      <td>1</td>\n",
       "      <td>0</td>\n",
       "      <td>1</td>\n",
       "      <td>1</td>\n",
       "      <td>10.66</td>\n",
       "      <td>11.365</td>\n",
       "      <td>56</td>\n",
       "      <td>26.0027</td>\n",
       "    </tr>\n",
       "    <tr>\n",
       "      <th>2011-01-20 01:00:00</th>\n",
       "      <td>1</td>\n",
       "      <td>0</td>\n",
       "      <td>1</td>\n",
       "      <td>1</td>\n",
       "      <td>10.66</td>\n",
       "      <td>13.635</td>\n",
       "      <td>56</td>\n",
       "      <td>0.0000</td>\n",
       "    </tr>\n",
       "    <tr>\n",
       "      <th>2011-01-20 02:00:00</th>\n",
       "      <td>1</td>\n",
       "      <td>0</td>\n",
       "      <td>1</td>\n",
       "      <td>1</td>\n",
       "      <td>10.66</td>\n",
       "      <td>13.635</td>\n",
       "      <td>56</td>\n",
       "      <td>0.0000</td>\n",
       "    </tr>\n",
       "    <tr>\n",
       "      <th>2011-01-20 03:00:00</th>\n",
       "      <td>1</td>\n",
       "      <td>0</td>\n",
       "      <td>1</td>\n",
       "      <td>1</td>\n",
       "      <td>10.66</td>\n",
       "      <td>12.880</td>\n",
       "      <td>56</td>\n",
       "      <td>11.0014</td>\n",
       "    </tr>\n",
       "    <tr>\n",
       "      <th>2011-01-20 04:00:00</th>\n",
       "      <td>1</td>\n",
       "      <td>0</td>\n",
       "      <td>1</td>\n",
       "      <td>1</td>\n",
       "      <td>10.66</td>\n",
       "      <td>12.880</td>\n",
       "      <td>56</td>\n",
       "      <td>11.0014</td>\n",
       "    </tr>\n",
       "  </tbody>\n",
       "</table>\n",
       "</div>"
      ],
      "text/plain": [
       "                     season  holiday  workingday  weather   temp   atemp  \\\n",
       "datetime                                                                   \n",
       "2011-01-20 00:00:00       1        0           1        1  10.66  11.365   \n",
       "2011-01-20 01:00:00       1        0           1        1  10.66  13.635   \n",
       "2011-01-20 02:00:00       1        0           1        1  10.66  13.635   \n",
       "2011-01-20 03:00:00       1        0           1        1  10.66  12.880   \n",
       "2011-01-20 04:00:00       1        0           1        1  10.66  12.880   \n",
       "\n",
       "                     humidity  windspeed  \n",
       "datetime                                  \n",
       "2011-01-20 00:00:00        56    26.0027  \n",
       "2011-01-20 01:00:00        56     0.0000  \n",
       "2011-01-20 02:00:00        56     0.0000  \n",
       "2011-01-20 03:00:00        56    11.0014  \n",
       "2011-01-20 04:00:00        56    11.0014  "
      ]
     },
     "execution_count": 172,
     "metadata": {},
     "output_type": "execute_result"
    }
   ],
   "source": [
    "df = pd.read_csv('C:\\\\Hims\\\\Misc\\\\bike_sharing_demand.csv',parse_dates=['datetime'])\n",
    "df.set_index('datetime', inplace=True, drop=True)\n",
    "df.head()"
   ]
  },
  {
   "cell_type": "code",
   "execution_count": 173,
   "metadata": {},
   "outputs": [
    {
     "data": {
      "text/html": [
       "<div>\n",
       "<style scoped>\n",
       "    .dataframe tbody tr th:only-of-type {\n",
       "        vertical-align: middle;\n",
       "    }\n",
       "\n",
       "    .dataframe tbody tr th {\n",
       "        vertical-align: top;\n",
       "    }\n",
       "\n",
       "    .dataframe thead th {\n",
       "        text-align: right;\n",
       "    }\n",
       "</style>\n",
       "<table border=\"1\" class=\"dataframe\">\n",
       "  <thead>\n",
       "    <tr style=\"text-align: right;\">\n",
       "      <th></th>\n",
       "      <th>season</th>\n",
       "      <th>holiday</th>\n",
       "      <th>workingday</th>\n",
       "      <th>weather</th>\n",
       "      <th>temp</th>\n",
       "      <th>atemp</th>\n",
       "      <th>humidity</th>\n",
       "      <th>windspeed</th>\n",
       "    </tr>\n",
       "  </thead>\n",
       "  <tbody>\n",
       "    <tr>\n",
       "      <th>count</th>\n",
       "      <td>599.000000</td>\n",
       "      <td>599.000000</td>\n",
       "      <td>599.000000</td>\n",
       "      <td>599.000000</td>\n",
       "      <td>599.000000</td>\n",
       "      <td>599.000000</td>\n",
       "      <td>599.000000</td>\n",
       "      <td>599.000000</td>\n",
       "    </tr>\n",
       "    <tr>\n",
       "      <th>mean</th>\n",
       "      <td>1.191987</td>\n",
       "      <td>0.040067</td>\n",
       "      <td>0.649416</td>\n",
       "      <td>1.595993</td>\n",
       "      <td>10.602504</td>\n",
       "      <td>12.968531</td>\n",
       "      <td>61.642738</td>\n",
       "      <td>14.108880</td>\n",
       "    </tr>\n",
       "    <tr>\n",
       "      <th>std</th>\n",
       "      <td>0.394192</td>\n",
       "      <td>0.196280</td>\n",
       "      <td>0.477552</td>\n",
       "      <td>0.696660</td>\n",
       "      <td>4.593686</td>\n",
       "      <td>5.302457</td>\n",
       "      <td>18.947805</td>\n",
       "      <td>8.711015</td>\n",
       "    </tr>\n",
       "    <tr>\n",
       "      <th>min</th>\n",
       "      <td>1.000000</td>\n",
       "      <td>0.000000</td>\n",
       "      <td>0.000000</td>\n",
       "      <td>1.000000</td>\n",
       "      <td>0.820000</td>\n",
       "      <td>0.000000</td>\n",
       "      <td>21.000000</td>\n",
       "      <td>0.000000</td>\n",
       "    </tr>\n",
       "    <tr>\n",
       "      <th>25%</th>\n",
       "      <td>1.000000</td>\n",
       "      <td>0.000000</td>\n",
       "      <td>0.000000</td>\n",
       "      <td>1.000000</td>\n",
       "      <td>7.380000</td>\n",
       "      <td>9.850000</td>\n",
       "      <td>47.000000</td>\n",
       "      <td>7.001500</td>\n",
       "    </tr>\n",
       "    <tr>\n",
       "      <th>50%</th>\n",
       "      <td>1.000000</td>\n",
       "      <td>0.000000</td>\n",
       "      <td>1.000000</td>\n",
       "      <td>1.000000</td>\n",
       "      <td>9.840000</td>\n",
       "      <td>12.880000</td>\n",
       "      <td>60.000000</td>\n",
       "      <td>12.998000</td>\n",
       "    </tr>\n",
       "    <tr>\n",
       "      <th>75%</th>\n",
       "      <td>1.000000</td>\n",
       "      <td>0.000000</td>\n",
       "      <td>1.000000</td>\n",
       "      <td>2.000000</td>\n",
       "      <td>13.940000</td>\n",
       "      <td>15.910000</td>\n",
       "      <td>75.000000</td>\n",
       "      <td>19.001200</td>\n",
       "    </tr>\n",
       "    <tr>\n",
       "      <th>max</th>\n",
       "      <td>2.000000</td>\n",
       "      <td>1.000000</td>\n",
       "      <td>1.000000</td>\n",
       "      <td>4.000000</td>\n",
       "      <td>23.780000</td>\n",
       "      <td>27.275000</td>\n",
       "      <td>100.000000</td>\n",
       "      <td>54.002000</td>\n",
       "    </tr>\n",
       "  </tbody>\n",
       "</table>\n",
       "</div>"
      ],
      "text/plain": [
       "           season     holiday  workingday     weather        temp       atemp  \\\n",
       "count  599.000000  599.000000  599.000000  599.000000  599.000000  599.000000   \n",
       "mean     1.191987    0.040067    0.649416    1.595993   10.602504   12.968531   \n",
       "std      0.394192    0.196280    0.477552    0.696660    4.593686    5.302457   \n",
       "min      1.000000    0.000000    0.000000    1.000000    0.820000    0.000000   \n",
       "25%      1.000000    0.000000    0.000000    1.000000    7.380000    9.850000   \n",
       "50%      1.000000    0.000000    1.000000    1.000000    9.840000   12.880000   \n",
       "75%      1.000000    0.000000    1.000000    2.000000   13.940000   15.910000   \n",
       "max      2.000000    1.000000    1.000000    4.000000   23.780000   27.275000   \n",
       "\n",
       "         humidity   windspeed  \n",
       "count  599.000000  599.000000  \n",
       "mean    61.642738   14.108880  \n",
       "std     18.947805    8.711015  \n",
       "min     21.000000    0.000000  \n",
       "25%     47.000000    7.001500  \n",
       "50%     60.000000   12.998000  \n",
       "75%     75.000000   19.001200  \n",
       "max    100.000000   54.002000  "
      ]
     },
     "execution_count": 173,
     "metadata": {},
     "output_type": "execute_result"
    }
   ],
   "source": [
    "df.describe()"
   ]
  },
  {
   "cell_type": "code",
   "execution_count": 174,
   "metadata": {},
   "outputs": [],
   "source": [
    "X = df.iloc[:,:-1]\n",
    "y = df.iloc[:,-1]"
   ]
  },
  {
   "cell_type": "code",
   "execution_count": 175,
   "metadata": {},
   "outputs": [],
   "source": [
    "from sklearn.model_selection import train_test_split"
   ]
  },
  {
   "cell_type": "code",
   "execution_count": 176,
   "metadata": {},
   "outputs": [],
   "source": [
    "X_train,X_test,y_train,y_test = train_test_split(X,y, test_size=0.2)"
   ]
  },
  {
   "cell_type": "code",
   "execution_count": 177,
   "metadata": {},
   "outputs": [
    {
     "name": "stdout",
     "output_type": "stream",
     "text": [
      "torch.Size([479, 7])\n",
      "torch.Size([479, 1])\n"
     ]
    }
   ],
   "source": [
    "X_train_tns = torch.tensor(X_train.values, dtype=torch.float)\n",
    "X_test_tns = torch.tensor(X_test.values, dtype=torch.float)\n",
    "y_train_tns = torch.tensor(y_train.values, dtype=torch.float)\n",
    "y_test_tns = torch.tensor(y_test.values, dtype=torch.float)\n",
    "y_train_tns = y_train_tns.view(-1,1)\n",
    "\n",
    "print(X_train_tns.size())\n",
    "print(y_train_tns.size())"
   ]
  },
  {
   "cell_type": "code",
   "execution_count": 178,
   "metadata": {},
   "outputs": [],
   "source": [
    "import torch.utils.data as util"
   ]
  },
  {
   "cell_type": "code",
   "execution_count": 179,
   "metadata": {},
   "outputs": [
    {
     "data": {
      "text/plain": [
       "5"
      ]
     },
     "execution_count": 179,
     "metadata": {},
     "output_type": "execute_result"
    }
   ],
   "source": [
    "train_data = util.TensorDataset(X_train_tns,y_train_tns)\n",
    "train_loader = util.DataLoader(train_data, batch_size=100,shuffle=True)\n",
    "len(train_loader)"
   ]
  },
  {
   "cell_type": "code",
   "execution_count": 180,
   "metadata": {},
   "outputs": [],
   "source": [
    "feature_batch, target_batch = iter(train_loader).next()"
   ]
  },
  {
   "cell_type": "code",
   "execution_count": 181,
   "metadata": {},
   "outputs": [],
   "source": [
    "inp = X_train_tns.shape[1]\n",
    "hid = 10\n",
    "out = 1\n",
    "loss_fn = torch.nn.MSELoss()"
   ]
  },
  {
   "cell_type": "code",
   "execution_count": 182,
   "metadata": {},
   "outputs": [],
   "source": [
    "model = torch.nn.Sequential(torch.nn.Linear(inp,hid),\n",
    "                            torch.nn.Linear(hid,out))"
   ]
  },
  {
   "cell_type": "code",
   "execution_count": 184,
   "metadata": {},
   "outputs": [
    {
     "name": "stderr",
     "output_type": "stream",
     "text": [
      "\r\n",
      "(dot.exe:47032): Pango-WARNING **: couldn't load font \"Times Not-Rotated 10\", falling back to \"Sans Not-Rotated 10\", expect ugly output.\r\n"
     ]
    },
    {
     "data": {
      "image/svg+xml": [
       "<?xml version=\"1.0\" encoding=\"UTF-8\" standalone=\"no\"?>\r\n",
       "<!DOCTYPE svg PUBLIC \"-//W3C//DTD SVG 1.1//EN\"\r\n",
       " \"http://www.w3.org/Graphics/SVG/1.1/DTD/svg11.dtd\">\r\n",
       "<!-- Generated by graphviz version 2.45.2020????.???? (2020????.????)\r\n",
       " -->\r\n",
       "<!-- Pages: 1 -->\r\n",
       "<svg width=\"198pt\" height=\"116pt\"\r\n",
       " viewBox=\"0.00 0.00 198.00 116.00\" xmlns=\"http://www.w3.org/2000/svg\" xmlns:xlink=\"http://www.w3.org/1999/xlink\">\r\n",
       "<g id=\"graph0\" class=\"graph\" transform=\"scale(1 1) rotate(0) translate(72 80)\">\r\n",
       "<polygon fill=\"#ffffff\" stroke=\"transparent\" points=\"-72,36 -72,-80 126,-80 126,36 -72,36\"/>\r\n",
       "<!-- 11045372239529747175 -->\r\n",
       "<g id=\"node1\" class=\"node\">\r\n",
       "<title>11045372239529747175</title>\r\n",
       "<polygon fill=\"#e8e8e8\" stroke=\"#000000\" points=\"54,-44 0,-44 0,0 54,0 54,-44\"/>\r\n",
       "<text text-anchor=\"start\" x=\"14\" y=\"-28\" font-family=\"Times\" font-size=\"10.00\" fill=\"#000000\">Linear</text>\r\n",
       "<text text-anchor=\"start\" x=\"35\" y=\"-7\" font-family=\"Times\" font-size=\"10.00\" fill=\"#000000\">x2</text>\r\n",
       "</g>\r\n",
       "</g>\r\n",
       "</svg>\r\n"
      ],
      "text/plain": [
       "<hiddenlayer.graph.Graph at 0x2050a1ada88>"
      ]
     },
     "execution_count": 184,
     "metadata": {},
     "output_type": "execute_result"
    }
   ],
   "source": [
    "hl.build_graph(model, torch.zeros([10,inp]))"
   ]
  },
  {
   "cell_type": "code",
   "execution_count": 185,
   "metadata": {},
   "outputs": [],
   "source": [
    "optimizer = torch.optim.Adam(model.parameters(),lr=0.001)"
   ]
  },
  {
   "cell_type": "code",
   "execution_count": 186,
   "metadata": {},
   "outputs": [
    {
     "name": "stdout",
     "output_type": "stream",
     "text": [
      "Epoch [1/10000], Step[1/5, Loss: 247.2770538330078\n",
      "Epoch [1/10000], Step[2/5, Loss: 201.32952880859375\n",
      "Epoch [1/10000], Step[3/5, Loss: 258.6621398925781\n",
      "Epoch [1/10000], Step[4/5, Loss: 161.0139923095703\n",
      "Epoch [1/10000], Step[5/5, Loss: 188.50013732910156\n",
      "Epoch [2001/10000], Step[1/5, Loss: 26.532224655151367\n",
      "Epoch [2001/10000], Step[2/5, Loss: 25.927101135253906\n",
      "Epoch [2001/10000], Step[3/5, Loss: 39.275691986083984\n",
      "Epoch [2001/10000], Step[4/5, Loss: 23.010225296020508\n",
      "Epoch [2001/10000], Step[5/5, Loss: 20.271251678466797\n",
      "Epoch [4001/10000], Step[1/5, Loss: 35.424015045166016\n",
      "Epoch [4001/10000], Step[2/5, Loss: 20.640947341918945\n",
      "Epoch [4001/10000], Step[3/5, Loss: 17.722984313964844\n",
      "Epoch [4001/10000], Step[4/5, Loss: 19.184839248657227\n",
      "Epoch [4001/10000], Step[5/5, Loss: 46.37931823730469\n",
      "Epoch [6001/10000], Step[1/5, Loss: 23.76244354248047\n",
      "Epoch [6001/10000], Step[2/5, Loss: 22.694385528564453\n",
      "Epoch [6001/10000], Step[3/5, Loss: 21.276655197143555\n",
      "Epoch [6001/10000], Step[4/5, Loss: 31.086938858032227\n",
      "Epoch [6001/10000], Step[5/5, Loss: 39.61928176879883\n",
      "Epoch [8001/10000], Step[1/5, Loss: 33.087154388427734\n",
      "Epoch [8001/10000], Step[2/5, Loss: 18.283838272094727\n",
      "Epoch [8001/10000], Step[3/5, Loss: 41.3203010559082\n",
      "Epoch [8001/10000], Step[4/5, Loss: 17.584951400756836\n",
      "Epoch [8001/10000], Step[5/5, Loss: 24.949167251586914\n",
      "Epoch [10001/10000], Step[1/5, Loss: 35.97511672973633\n",
      "Epoch [10001/10000], Step[2/5, Loss: 17.829748153686523\n",
      "Epoch [10001/10000], Step[3/5, Loss: 26.482290267944336\n",
      "Epoch [10001/10000], Step[4/5, Loss: 29.262147903442383\n",
      "Epoch [10001/10000], Step[5/5, Loss: 26.493730545043945\n"
     ]
    }
   ],
   "source": [
    "total_steps = len(train_loader)\n",
    "\n",
    "epochs = 10000\n",
    "\n",
    "for epoch in range(epochs+1):\n",
    "    for i, (feature,target) in enumerate(train_loader):\n",
    "\n",
    "        y_pred = model(feature)\n",
    "        y_pred = y_pred.clamp(min=0)\n",
    "        loss = loss_fn(y_pred, target)\n",
    "\n",
    "        optimizer.zero_grad()\n",
    "\n",
    "        loss.backward()\n",
    "\n",
    "        optimizer.step()\n",
    "        \n",
    "        if epoch % 2000 == 0:\n",
    "            print (f'Epoch [{epoch+1}/{epochs}], Step[{i+1}/{total_steps}, Loss: {loss.item()}')"
   ]
  },
  {
   "cell_type": "code",
   "execution_count": 187,
   "metadata": {},
   "outputs": [
    {
     "data": {
      "text/plain": [
       "Sequential(\n",
       "  (0): Linear(in_features=7, out_features=10, bias=True)\n",
       "  (1): Linear(in_features=10, out_features=1, bias=True)\n",
       ")"
      ]
     },
     "execution_count": 187,
     "metadata": {},
     "output_type": "execute_result"
    }
   ],
   "source": [
    "model.eval()"
   ]
  },
  {
   "cell_type": "code",
   "execution_count": 191,
   "metadata": {},
   "outputs": [
    {
     "data": {
      "text/plain": [
       "array([[25.93603  ],\n",
       "       [ 0.       ],\n",
       "       [12.495147 ],\n",
       "       [19.196716 ],\n",
       "       [19.584993 ],\n",
       "       [21.044048 ],\n",
       "       [26.724821 ],\n",
       "       [17.225704 ],\n",
       "       [13.056527 ],\n",
       "       [20.369717 ],\n",
       "       [18.300186 ],\n",
       "       [23.384918 ],\n",
       "       [ 8.515203 ],\n",
       "       [25.106459 ],\n",
       "       [19.211351 ],\n",
       "       [20.223263 ],\n",
       "       [21.973814 ],\n",
       "       [ 9.086862 ],\n",
       "       [11.4382305],\n",
       "       [27.331268 ],\n",
       "       [10.879747 ],\n",
       "       [20.218607 ],\n",
       "       [ 8.4789505],\n",
       "       [19.473854 ],\n",
       "       [15.278333 ],\n",
       "       [ 8.89144  ],\n",
       "       [18.383244 ],\n",
       "       [ 0.       ],\n",
       "       [25.92725  ],\n",
       "       [11.279662 ],\n",
       "       [14.470589 ],\n",
       "       [ 0.       ],\n",
       "       [14.663046 ],\n",
       "       [10.3201   ],\n",
       "       [ 8.105544 ],\n",
       "       [10.270743 ],\n",
       "       [22.788713 ],\n",
       "       [11.419128 ],\n",
       "       [17.473703 ],\n",
       "       [16.654343 ],\n",
       "       [ 6.3767114],\n",
       "       [ 9.875449 ],\n",
       "       [23.37035  ],\n",
       "       [15.622002 ],\n",
       "       [23.263004 ],\n",
       "       [13.676106 ],\n",
       "       [ 4.98171  ],\n",
       "       [10.084106 ],\n",
       "       [ 1.5631057],\n",
       "       [22.344362 ],\n",
       "       [24.136581 ],\n",
       "       [16.372849 ],\n",
       "       [27.94207  ],\n",
       "       [12.068061 ],\n",
       "       [ 6.0953093],\n",
       "       [ 9.693234 ],\n",
       "       [19.963884 ],\n",
       "       [15.635175 ],\n",
       "       [17.451782 ],\n",
       "       [17.469313 ],\n",
       "       [17.269573 ],\n",
       "       [16.225498 ],\n",
       "       [10.901666 ],\n",
       "       [ 0.       ],\n",
       "       [11.470429 ],\n",
       "       [ 7.312898 ],\n",
       "       [16.005522 ],\n",
       "       [ 5.3155317],\n",
       "       [18.390562 ],\n",
       "       [12.087087 ],\n",
       "       [14.8874655],\n",
       "       [10.919498 ],\n",
       "       [24.427269 ],\n",
       "       [ 1.7395984],\n",
       "       [11.457152 ],\n",
       "       [21.13882  ],\n",
       "       [13.683734 ],\n",
       "       [13.852437 ],\n",
       "       [22.796028 ],\n",
       "       [16.247375 ],\n",
       "       [ 0.       ],\n",
       "       [16.629498 ],\n",
       "       [ 7.6858974],\n",
       "       [21.22311  ],\n",
       "       [17.410843 ],\n",
       "       [10.283851 ],\n",
       "       [ 8.115788 ],\n",
       "       [10.500853 ],\n",
       "       [16.890411 ],\n",
       "       [ 5.3766336],\n",
       "       [ 4.3035803],\n",
       "       [21.048214 ],\n",
       "       [22.83698  ],\n",
       "       [17.582733 ],\n",
       "       [25.115236 ],\n",
       "       [ 9.095642 ],\n",
       "       [11.263565 ],\n",
       "       [18.033352 ],\n",
       "       [15.642765 ],\n",
       "       [17.075983 ],\n",
       "       [11.757583 ],\n",
       "       [13.683734 ],\n",
       "       [14.012859 ],\n",
       "       [18.390562 ],\n",
       "       [18.82045  ],\n",
       "       [14.103567 ],\n",
       "       [12.511548 ],\n",
       "       [22.965044 ],\n",
       "       [17.218388 ],\n",
       "       [25.600943 ],\n",
       "       [10.238545 ],\n",
       "       [ 0.       ],\n",
       "       [ 6.4917707],\n",
       "       [18.094486 ],\n",
       "       [10.098709 ],\n",
       "       [17.010035 ],\n",
       "       [22.965044 ],\n",
       "       [27.249538 ],\n",
       "       [11.306006 ],\n",
       "       [12.044611 ]], dtype=float32)"
      ]
     },
     "execution_count": 191,
     "metadata": {},
     "output_type": "execute_result"
    }
   ],
   "source": [
    "with torch.no_grad():\n",
    "    y_pred = model(X_test_tns)\n",
    "y_pred = y_pred.clamp(min=0)\n",
    "y_pred = y_pred.detach().numpy()\n",
    "y_pred"
   ]
  },
  {
   "cell_type": "code",
   "execution_count": 192,
   "metadata": {},
   "outputs": [
    {
     "data": {
      "text/html": [
       "<div>\n",
       "<style scoped>\n",
       "    .dataframe tbody tr th:only-of-type {\n",
       "        vertical-align: middle;\n",
       "    }\n",
       "\n",
       "    .dataframe tbody tr th {\n",
       "        vertical-align: top;\n",
       "    }\n",
       "\n",
       "    .dataframe thead th {\n",
       "        text-align: right;\n",
       "    }\n",
       "</style>\n",
       "<table border=\"1\" class=\"dataframe\">\n",
       "  <thead>\n",
       "    <tr style=\"text-align: right;\">\n",
       "      <th></th>\n",
       "      <th>Actual</th>\n",
       "      <th>Predicted</th>\n",
       "    </tr>\n",
       "    <tr>\n",
       "      <th>datetime</th>\n",
       "      <th></th>\n",
       "      <th></th>\n",
       "    </tr>\n",
       "  </thead>\n",
       "  <tbody>\n",
       "    <tr>\n",
       "      <th>2011-02-28 01:00:00</th>\n",
       "      <td>23.9994</td>\n",
       "      <td>25.936029</td>\n",
       "    </tr>\n",
       "    <tr>\n",
       "      <th>2011-01-24 08:00:00</th>\n",
       "      <td>0.0000</td>\n",
       "      <td>0.000000</td>\n",
       "    </tr>\n",
       "    <tr>\n",
       "      <th>2011-02-23 01:00:00</th>\n",
       "      <td>11.0014</td>\n",
       "      <td>12.495147</td>\n",
       "    </tr>\n",
       "    <tr>\n",
       "      <th>2011-01-21 00:00:00</th>\n",
       "      <td>16.9979</td>\n",
       "      <td>19.196716</td>\n",
       "    </tr>\n",
       "    <tr>\n",
       "      <th>2011-03-21 14:00:00</th>\n",
       "      <td>15.0013</td>\n",
       "      <td>19.584993</td>\n",
       "    </tr>\n",
       "  </tbody>\n",
       "</table>\n",
       "</div>"
      ],
      "text/plain": [
       "                      Actual  Predicted\n",
       "datetime                               \n",
       "2011-02-28 01:00:00  23.9994  25.936029\n",
       "2011-01-24 08:00:00   0.0000   0.000000\n",
       "2011-02-23 01:00:00  11.0014  12.495147\n",
       "2011-01-21 00:00:00  16.9979  19.196716\n",
       "2011-03-21 14:00:00  15.0013  19.584993"
      ]
     },
     "execution_count": 192,
     "metadata": {},
     "output_type": "execute_result"
    }
   ],
   "source": [
    "result = pd.DataFrame({'Actual':np.squeeze(y_test),'Predicted':np.squeeze(y_pred)})\n",
    "result.head()"
   ]
  },
  {
   "cell_type": "code",
   "execution_count": 193,
   "metadata": {},
   "outputs": [
    {
     "data": {
      "image/png": "[encoded data removed]",
      "text/plain": [
       "<Figure size 720x576 with 1 Axes>"
      ]
     },
     "metadata": {
      "needs_background": "light"
     },
     "output_type": "display_data"
    }
   ],
   "source": [
    "plt.figure(figsize=(10,8))\n",
    "plt.scatter(y_pred,y_test.values,c='r')\n",
    "plt.show()"
   ]
  },
  {
   "cell_type": "code",
   "execution_count": null,
   "metadata": {},
   "outputs": [],
   "source": []
  }
 ],
 "metadata": {
  "kernelspec": {
   "display_name": "Python 3",
   "language": "python",
   "name": "python3"
  },
  "language_info": {
   "codemirror_mode": {
    "name": "ipython",
    "version": 3
   },
   "file_extension": ".py",
   "mimetype": "text/x-python",
   "name": "python",
   "nbconvert_exporter": "python",
   "pygments_lexer": "ipython3",
   "version": "3.7.6"
  }
 },
 "nbformat": 4,
 "nbformat_minor": 4
}
