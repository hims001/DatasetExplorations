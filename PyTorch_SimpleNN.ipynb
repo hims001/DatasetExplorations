{
 "cells": [
  {
   "cell_type": "code",
   "execution_count": 1,
   "metadata": {},
   "outputs": [],
   "source": [
    "import torch\n",
    "import numpy as np\n",
    "import matplotlib.pyplot as plt\n",
    "import random"
   ]
  },
  {
   "cell_type": "markdown",
   "metadata": {},
   "source": [
    "### Simple 1-neuron NN with manual calculation of forward and backward pass"
   ]
  },
  {
   "cell_type": "code",
   "execution_count": 2,
   "metadata": {},
   "outputs": [],
   "source": [
    "X_train = np.array([[4.5],[6.5],[1.2],[3.2],[9.8],[5.6],[9.8],[8.3],[2.4],[4.5],[1.9],[7.3],[2.8],[6.9],[3.3],[5.8],[3.1],[2.2],[4.4],[8.9],[7.3],[2.7],[9.9],[5.4]],dtype=np.float32)\n",
    "y_train = np.array([[1.5],[3.5],[5.2],[2.2],[8.8],[6.6],[5.8],[9.3],[1.4],[2.5],[7.9],[3.3],[8.8],[4.9],[5.3],[4.8],[1.1],[7.2],[8.4],[5.9],[9.3],[5.7],[3.9],[4.4]],dtype=np.float32)"
   ]
  },
  {
   "cell_type": "code",
   "execution_count": 3,
   "metadata": {},
   "outputs": [
    {
     "data": {
      "image/png": "[encoded data removed]",
      "text/plain": [
       "<Figure size 432x288 with 1 Axes>"
      ]
     },
     "metadata": {
      "needs_background": "light"
     },
     "output_type": "display_data"
    }
   ],
   "source": [
    "plt.scatter(X_train, y_train, c='r',s=100,label='original data')\n",
    "plt.show()"
   ]
  },
  {
   "cell_type": "code",
   "execution_count": 4,
   "metadata": {},
   "outputs": [],
   "source": [
    "X = torch.from_numpy(X_train)\n",
    "y = torch.from_numpy(y_train)"
   ]
  },
  {
   "cell_type": "code",
   "execution_count": 5,
   "metadata": {},
   "outputs": [],
   "source": [
    "inp = 1\n",
    "hid = 1\n",
    "out = 1\n",
    "lr = 0.001"
   ]
  },
  {
   "cell_type": "code",
   "execution_count": 6,
   "metadata": {},
   "outputs": [],
   "source": [
    "w1 = torch.rand(inp,hid,requires_grad=True)\n",
    "b1 = torch.rand(hid,out,requires_grad=True)"
   ]
  },
  {
   "cell_type": "code",
   "execution_count": 7,
   "metadata": {},
   "outputs": [
    {
     "data": {
      "text/plain": [
       "tensor([[0.8146]], requires_grad=True)"
      ]
     },
     "execution_count": 7,
     "metadata": {},
     "output_type": "execute_result"
    }
   ],
   "source": [
    "w1"
   ]
  },
  {
   "cell_type": "code",
   "execution_count": 8,
   "metadata": {},
   "outputs": [
    {
     "data": {
      "text/plain": [
       "tensor([[0.4511]], requires_grad=True)"
      ]
     },
     "execution_count": 8,
     "metadata": {},
     "output_type": "execute_result"
    }
   ],
   "source": [
    "b1"
   ]
  },
  {
   "cell_type": "code",
   "execution_count": 9,
   "metadata": {},
   "outputs": [
    {
     "name": "stdout",
     "output_type": "stream",
     "text": [
      "100 158.99867248535156\n",
      "200 149.6129608154297\n",
      "300 148.20028686523438\n",
      "400 147.98765563964844\n",
      "500 147.9556427001953\n",
      "600 147.95083618164062\n",
      "700 147.9501190185547\n",
      "800 147.9499969482422\n",
      "900 147.9499969482422\n",
      "1000 147.95001220703125\n"
     ]
    }
   ],
   "source": [
    "for iter in range(1,1100):\n",
    "    y_pred = X.mm(w1).clamp(min=0).add(b1)\n",
    "    loss = (y_pred-y).pow(2).sum()\n",
    "    \n",
    "    if iter % 100 == 0:\n",
    "        print(iter, loss.item())\n",
    "        \n",
    "    loss.backward()\n",
    "    \n",
    "    with torch.no_grad():\n",
    "        w1 -= lr * w1.grad\n",
    "        b1 -= lr * b1.grad\n",
    "        w1.grad.zero_()\n",
    "        b1.grad.zero_()"
   ]
  },
  {
   "cell_type": "code",
   "execution_count": 10,
   "metadata": {},
   "outputs": [
    {
     "name": "stdout",
     "output_type": "stream",
     "text": [
      "tensor([[0.1898]], requires_grad=True)\n",
      "tensor([[4.3108]], requires_grad=True)\n"
     ]
    }
   ],
   "source": [
    "print(w1)\n",
    "print(b1)"
   ]
  },
  {
   "cell_type": "code",
   "execution_count": 11,
   "metadata": {},
   "outputs": [],
   "source": [
    "predicted = X.mm(w1).clamp(min=0).add(b1)\n",
    "predicted = predicted.detach().numpy()"
   ]
  },
  {
   "cell_type": "code",
   "execution_count": 12,
   "metadata": {},
   "outputs": [
    {
     "data": {
      "image/png": "[encoded data removed]",
      "text/plain": [
       "<Figure size 432x288 with 1 Axes>"
      ]
     },
     "metadata": {
      "needs_background": "light"
     },
     "output_type": "display_data"
    }
   ],
   "source": [
    "plt.scatter(X_train, y_train, c='r',s=100,label='original data')\n",
    "plt.plot(X_train,predicted, label='fitted line')\n",
    "plt.legend()\n",
    "plt.show()"
   ]
  },
  {
   "cell_type": "markdown",
   "metadata": {},
   "source": [
    "### Simple NN with PyTorch library methods"
   ]
  },
  {
   "cell_type": "code",
   "execution_count": 22,
   "metadata": {},
   "outputs": [],
   "source": [
    "X_train = np.array([[4.5],[6.5],[1.2],[3.2],[9.8],[5.6],[9.8],[8.3],[2.4],[4.5],[1.9],[7.3],[2.8],[6.9],[3.3],[5.8],[3.1],[2.2],[4.4],[8.9],[7.3],[2.7],[9.9],[5.4]],dtype=np.float32)\n",
    "y_train = np.array([[1.5],[3.5],[5.2],[2.2],[8.8],[6.6],[5.8],[9.3],[1.4],[2.5],[7.9],[3.3],[8.8],[4.9],[5.3],[4.8],[1.1],[7.2],[8.4],[5.9],[9.3],[5.7],[3.9],[4.4]],dtype=np.float32)"
   ]
  },
  {
   "cell_type": "code",
   "execution_count": 23,
   "metadata": {},
   "outputs": [],
   "source": [
    "X = torch.from_numpy(X_train)\n",
    "y = torch.from_numpy(y_train)"
   ]
  },
  {
   "cell_type": "code",
   "execution_count": 24,
   "metadata": {},
   "outputs": [],
   "source": [
    "inp = 1\n",
    "hid = 5\n",
    "out = 1\n",
    "lr = 0.001"
   ]
  },
  {
   "cell_type": "code",
   "execution_count": 25,
   "metadata": {},
   "outputs": [],
   "source": [
    "model = torch.nn.Sequential(\n",
    "        torch.nn.Linear(inp,hid),\n",
    "        torch.nn.ReLU(),\n",
    "        torch.nn.Linear(hid,out))"
   ]
  },
  {
   "cell_type": "code",
   "execution_count": 26,
   "metadata": {},
   "outputs": [],
   "source": [
    "loss_fn = torch.nn.MSELoss(reduction='sum')"
   ]
  },
  {
   "cell_type": "code",
   "execution_count": 27,
   "metadata": {},
   "outputs": [
    {
     "name": "stdout",
     "output_type": "stream",
     "text": [
      "0 1283.009765625\n",
      "100 154.1410369873047\n",
      "200 154.09957885742188\n",
      "300 154.09957885742188\n",
      "400 154.09957885742188\n"
     ]
    }
   ],
   "source": [
    "optimizer = torch.optim.SGD(model.parameters(), lr = lr)\n",
    "\n",
    "for iter in range(500):\n",
    "    y_pred = model(X)\n",
    "    \n",
    "    loss = loss_fn(y_pred, y)\n",
    "    \n",
    "    if iter % 100 == 0:\n",
    "        print(iter, loss.item())\n",
    "    \n",
    "    #model.zero_grad()\n",
    "    optimizer.zero_grad()\n",
    "    \n",
    "    loss.backward()\n",
    "    \n",
    "    optimizer.step()\n",
    "    \n",
    "    #with torch.no_grad():\n",
    "        #for param in model.parameters():\n",
    "        #    param -= lr * param.grad"
   ]
  },
  {
   "cell_type": "code",
   "execution_count": 28,
   "metadata": {},
   "outputs": [
    {
     "name": "stdout",
     "output_type": "stream",
     "text": [
      "tensor([[0.1898]], requires_grad=True)\n",
      "tensor([[4.3108]], requires_grad=True)\n"
     ]
    }
   ],
   "source": [
    "print(w1)\n",
    "print(b1)"
   ]
  },
  {
   "cell_type": "code",
   "execution_count": 29,
   "metadata": {},
   "outputs": [],
   "source": [
    "predicted = X.mm(w1).clamp(min=0).add(b1)\n",
    "predicted = predicted.detach().numpy()"
   ]
  },
  {
   "cell_type": "code",
   "execution_count": 30,
   "metadata": {},
   "outputs": [
    {
     "data": {
      "image/png": "[encoded data removed]",
      "text/plain": [
       "<Figure size 432x288 with 1 Axes>"
      ]
     },
     "metadata": {
      "needs_background": "light"
     },
     "output_type": "display_data"
    }
   ],
   "source": [
    "plt.scatter(X_train, y_train, c='r',s=100,label='original data')\n",
    "plt.plot(X_train,predicted, label='fitted line')\n",
    "plt.legend()\n",
    "plt.show()"
   ]
  },
  {
   "cell_type": "code",
   "execution_count": null,
   "metadata": {},
   "outputs": [],
   "source": []
  }
 ],
 "metadata": {
  "kernelspec": {
   "display_name": "Python 3",
   "language": "python",
   "name": "python3"
  },
  "language_info": {
   "codemirror_mode": {
    "name": "ipython",
    "version": 3
   },
   "file_extension": ".py",
   "mimetype": "text/x-python",
   "name": "python",
   "nbconvert_exporter": "python",
   "pygments_lexer": "ipython3",
   "version": "3.7.6"
  }
 },
 "nbformat": 4,
 "nbformat_minor": 4
}
